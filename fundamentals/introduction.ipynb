{
  "cells": [
    {
      "cell_type": "markdown",
      "metadata": {
        "id": "view-in-github",
        "colab_type": "text"
      },
      "source": [
        "<a href=\"https://colab.research.google.com/github/TonyQ2k3/pytorch-deeplearning/blob/main/fundamentals/introduction.ipynb\" target=\"_parent\"><img src=\"https://colab.research.google.com/assets/colab-badge.svg\" alt=\"Open In Colab\"/></a>"
      ]
    },
    {
      "cell_type": "markdown",
      "metadata": {
        "id": "LWkz3UlUcreN"
      },
      "source": [
        "# Introduction to Pytorch"
      ]
    },
    {
      "cell_type": "markdown",
      "metadata": {
        "id": "hCwpfIOwcreP"
      },
      "source": []
    },
    {
      "cell_type": "code",
      "source": [
        "import torch\n",
        "from torch import nn\n",
        "from torch.utils.data import DataLoader\n",
        "from torchvision import datasets\n",
        "from torchvision.transforms import ToTensor, Lambda"
      ],
      "metadata": {
        "id": "-nDOqRONcseo"
      },
      "execution_count": 2,
      "outputs": []
    },
    {
      "cell_type": "code",
      "source": [
        "training_data = datasets.FashionMNIST(\n",
        "  root='data',\n",
        "  train=True,\n",
        "  transform=ToTensor(),\n",
        "  download=True\n",
        ")\n",
        "\n",
        "test_data = datasets.FashionMNIST(\n",
        "    root=\"data\",\n",
        "    train=False,\n",
        "    transform=ToTensor(),\n",
        "    download=True\n",
        ")"
      ],
      "metadata": {
        "id": "idI5xebQc7J3"
      },
      "execution_count": 4,
      "outputs": []
    },
    {
      "cell_type": "code",
      "source": [
        "train_dataloader = DataLoader(training_data, batch_size=64)\n",
        "test_dataloader = DataLoader(test_data, batch_size=64)"
      ],
      "metadata": {
        "id": "aJLTORM1dnFF"
      },
      "execution_count": 5,
      "outputs": []
    },
    {
      "cell_type": "code",
      "source": [
        "class NeuralNetwork(nn.Module):\n",
        "  def __init__(self):\n",
        "    super(NeuralNetwork, self).__init__()\n",
        "    self.flatten = nn.Flatten()\n",
        "    self.stack = nn.Sequential(\n",
        "        nn.Linear(28*28, 512),\n",
        "        nn.ReLU(),\n",
        "        nn.Linear(512, 512),\n",
        "        nn.ReLU(),\n",
        "        nn.Linear(512, 10),\n",
        "        nn.ReLU()\n",
        "    )\n",
        "  def forward(self, x):\n",
        "    x_flattened = self.flatten(x)\n",
        "    logits = self.stack(x_flattened)\n",
        "    return logits\n",
        "\n",
        "model = NeuralNetwork()"
      ],
      "metadata": {
        "id": "ouWTqV8FeFkH"
      },
      "execution_count": 7,
      "outputs": []
    },
    {
      "cell_type": "code",
      "source": [
        "# Hyperparams\n",
        "## Epochs: Number of times the dataset is passed through the model\n",
        "## Batch size: Number of samples the model sees each epochs\n",
        "## Step size (learning rate): Steps the model take to find a better weight. Too small => Take long time; Too large => May skip the best weight\n",
        "\n",
        "learning_rate = 0.001\n",
        "epochs = 5\n",
        "batch_size = 64\n",
        "\n",
        "# Loss func\n",
        "loss_fn = nn.CrossEntropyLoss()\n",
        "\n",
        "# Optimizer\n",
        "optimizer = torch.optim.SGD(model.parameters(), lr=learning_rate)"
      ],
      "metadata": {
        "id": "Dfp52PPFfELe"
      },
      "execution_count": 15,
      "outputs": []
    },
    {
      "cell_type": "code",
      "source": [
        "# Training\n",
        "def train_loop(dataloader, model, loss_fn, optimizer):\n",
        "  size = len(dataloader.dataset)\n",
        "  for batch, (X, y) in enumerate(dataloader):\n",
        "    # Calculate loss\n",
        "    y_preds = model(X)\n",
        "    loss = loss_fn(y_preds, y)\n",
        "\n",
        "    # Optimizing\n",
        "    optimizer.zero_grad()\n",
        "    loss.backward()\n",
        "    optimizer.step()\n",
        "\n",
        "    if batch % 100 == 0:\n",
        "      loss, current = loss.item(), batch * len(X)\n",
        "      print(f\"loss: {loss:>7f}  [{current:>5d}/{size:>5d}]\")\n",
        "\n",
        "# Testing\n",
        "def test_loop(dataloader, model, loss_fn):\n",
        "  size = len(dataloader.dataset)\n",
        "  test_loss, correct = 0, 0\n",
        "\n",
        "  with torch.no_grad():\n",
        "    for X, y in dataloader:\n",
        "      y_preds = model(X)\n",
        "      test_loss += loss_fn(y_preds, y).item()\n",
        "      correct += (y_preds.argmax(1) == y).type(torch.float).sum().item()\n",
        "  test_loss /= size\n",
        "  correct /= size\n",
        "  print(f\"Test Error: \\n Accuracy: {(100*correct):>0.1f}%, Avg loss: {test_loss:>8f} \\n\")"
      ],
      "metadata": {
        "id": "lMp1fnkYhnkK"
      },
      "execution_count": 19,
      "outputs": []
    },
    {
      "cell_type": "code",
      "source": [
        "# Start training\n",
        "\n",
        "for t in range(epochs):\n",
        "    print(f\"Epoch {t+1}\\n-------------------------------\")\n",
        "    train_loop(train_dataloader, model, loss_fn, optimizer)\n",
        "    test_loop(test_dataloader, model, loss_fn)\n",
        "print(\"Done!\")"
      ],
      "metadata": {
        "id": "JCbR9z0EoE58",
        "outputId": "548bcb23-3763-46dc-d32d-bccecc187ca5",
        "colab": {
          "base_uri": "https://localhost:8080/"
        }
      },
      "execution_count": 20,
      "outputs": [
        {
          "output_type": "stream",
          "name": "stdout",
          "text": [
            "Epoch 1\n",
            "-------------------------------\n",
            "loss: 2.304463  [    0/60000]\n",
            "loss: 2.287043  [ 6400/60000]\n",
            "loss: 2.272563  [12800/60000]\n",
            "loss: 2.264929  [19200/60000]\n",
            "loss: 2.250368  [25600/60000]\n",
            "loss: 2.242100  [32000/60000]\n",
            "loss: 2.239611  [38400/60000]\n",
            "loss: 2.223600  [44800/60000]\n",
            "loss: 2.209448  [51200/60000]\n",
            "loss: 2.190564  [57600/60000]\n",
            "Test Error: \n",
            " Accuracy: 57.7%, Avg loss: 0.034356 \n",
            "\n",
            "Epoch 2\n",
            "-------------------------------\n",
            "loss: 2.207123  [    0/60000]\n",
            "loss: 2.175255  [ 6400/60000]\n",
            "loss: 2.148502  [12800/60000]\n",
            "loss: 2.151077  [19200/60000]\n",
            "loss: 2.095414  [25600/60000]\n",
            "loss: 2.106207  [32000/60000]\n",
            "loss: 2.101409  [38400/60000]\n",
            "loss: 2.070063  [44800/60000]\n",
            "loss: 2.051821  [51200/60000]\n",
            "loss: 2.018984  [57600/60000]\n",
            "Test Error: \n",
            " Accuracy: 58.6%, Avg loss: 0.031619 \n",
            "\n",
            "Epoch 3\n",
            "-------------------------------\n",
            "loss: 2.057280  [    0/60000]\n",
            "loss: 1.989863  [ 6400/60000]\n",
            "loss: 1.940354  [12800/60000]\n",
            "loss: 1.957582  [19200/60000]\n",
            "loss: 1.843973  [25600/60000]\n",
            "loss: 1.892722  [32000/60000]\n",
            "loss: 1.884245  [38400/60000]\n",
            "loss: 1.843880  [44800/60000]\n",
            "loss: 1.826449  [51200/60000]\n",
            "loss: 1.771773  [57600/60000]\n",
            "Test Error: \n",
            " Accuracy: 58.9%, Avg loss: 0.027897 \n",
            "\n",
            "Epoch 4\n",
            "-------------------------------\n",
            "loss: 1.862776  [    0/60000]\n",
            "loss: 1.759903  [ 6400/60000]\n",
            "loss: 1.692496  [12800/60000]\n",
            "loss: 1.718883  [19200/60000]\n",
            "loss: 1.579069  [25600/60000]\n",
            "loss: 1.672637  [32000/60000]\n",
            "loss: 1.657747  [38400/60000]\n",
            "loss: 1.637773  [44800/60000]\n",
            "loss: 1.609354  [51200/60000]\n",
            "loss: 1.546402  [57600/60000]\n",
            "Test Error: \n",
            " Accuracy: 59.7%, Avg loss: 0.024593 \n",
            "\n",
            "Epoch 5\n",
            "-------------------------------\n",
            "loss: 1.681751  [    0/60000]\n",
            "loss: 1.568346  [ 6400/60000]\n",
            "loss: 1.489123  [12800/60000]\n",
            "loss: 1.528707  [19200/60000]\n",
            "loss: 1.372329  [25600/60000]\n",
            "loss: 1.506150  [32000/60000]\n",
            "loss: 1.478198  [38400/60000]\n",
            "loss: 1.486981  [44800/60000]\n",
            "loss: 1.444727  [51200/60000]\n",
            "loss: 1.389486  [57600/60000]\n",
            "Test Error: \n",
            " Accuracy: 60.8%, Avg loss: 0.022135 \n",
            "\n",
            "Done!\n"
          ]
        }
      ]
    },
    {
      "cell_type": "code",
      "source": [
        "torch.save(model.state_dict(), \"data/model.pth\")\n",
        "\n",
        "print(\"Saved PyTorch Model State to model.pth\")"
      ],
      "metadata": {
        "id": "B9nl1aatoRFd",
        "outputId": "2808cb03-e5f0-4ab6-89d2-111a579ce188",
        "colab": {
          "base_uri": "https://localhost:8080/"
        }
      },
      "execution_count": 21,
      "outputs": [
        {
          "output_type": "stream",
          "name": "stdout",
          "text": [
            "Saved PyTorch Model State to model.pth\n"
          ]
        }
      ]
    },
    {
      "cell_type": "code",
      "source": [],
      "metadata": {
        "id": "U9IszTp4pTFJ"
      },
      "execution_count": null,
      "outputs": []
    }
  ],
  "metadata": {
    "language_info": {
      "name": "python"
    },
    "colab": {
      "provenance": [],
      "include_colab_link": true
    },
    "kernelspec": {
      "name": "python3",
      "display_name": "Python 3"
    }
  },
  "nbformat": 4,
  "nbformat_minor": 0
}